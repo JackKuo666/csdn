{
 "cells": [
  {
   "cell_type": "markdown",
   "metadata": {},
   "source": [
    "# 2.Caffe2 的一些基本概念 - Workspaces&Operators & Nets & Nets 可视化\n",
    "\n",
    "这个部分我们将介绍一些基本概念，这包括： 怎样写 operators 和 nets \n",
    "\n",
    "首先，让我们 import Caffe2. `core` 和 `workspace` 。如果你想查看Caffe2生成的  protocol buffers 文件 , 那么应该 \n",
    "import `caffe2_pb2` from `caffe2.proto`."
   ]
  },
  {
   "cell_type": "code",
   "execution_count": 72,
   "metadata": {},
   "outputs": [],
   "source": [
    "from __future__ import absolute_import\n",
    "from __future__ import division\n",
    "from __future__ import print_function\n",
    "from __future__ import unicode_literals\n",
    "\n",
    "# We'll also import a few standard python libraries\n",
    "from matplotlib import pyplot\n",
    "import numpy as np\n",
    "import time\n",
    "\n",
    "# These are the droids you are looking for.\n",
    "from caffe2.python import core, workspace\n",
    "from caffe2.proto import caffe2_pb2\n",
    "\n",
    "# Let's show all plots inline.\n",
    "%matplotlib inline"
   ]
  },
  {
   "cell_type": "markdown",
   "metadata": {},
   "source": [
    "您可能会看到一条警告，说caffe2没有GPU支持。这意味着您正在运行CPU的caffe2。不要惊慌，CPU仍然可以运行。"
   ]
  },
  {
   "cell_type": "markdown",
   "metadata": {
    "collapsed": true
   },
   "source": [
    "## 1.Workspaces\n",
    "\n",
    "让我们首先介绍所有数据所在的工作空间Workspaces。\n",
    "\n",
    "与Matlab类似，caff2工作区由您创建并存储在内存中的blob组成。现在，假设一个blob是一个n维张量（Tensor），类似于numpy的ndarray，但是是连续的。接下来，我们将向您展示blob实际上是一个可以存储任何类型的c++对象的类型化指针，但是张量（Tensor）仅仅是存储在blob中的最常见类型。让我们看看交互是什么样的。\n",
    "\n",
    "`Blobs()` prints out all existing blobs in the workspace. \n",
    "\n",
    "`HasBlob()` queries if a blob exists in the workspace. As of now, we don't have any."
   ]
  },
  {
   "cell_type": "code",
   "execution_count": 73,
   "metadata": {},
   "outputs": [
    {
     "name": "stdout",
     "output_type": "stream",
     "text": [
      "Current blobs in the workspace: [u'W', u'X', u'Y', u'b']\n",
      "Workspace has blob 'X'? True\n"
     ]
    }
   ],
   "source": [
    "print(\"Current blobs in the workspace: {}\".format(workspace.Blobs()))\n",
    "print(\"Workspace has blob 'X'? {}\".format(workspace.HasBlob(\"X\")))"
   ]
  },
  {
   "cell_type": "markdown",
   "metadata": {},
   "source": [
    "我们可以使用`FeedBlob()`将 blobs 放进 workspace 中:"
   ]
  },
  {
   "cell_type": "code",
   "execution_count": 74,
   "metadata": {},
   "outputs": [
    {
     "name": "stdout",
     "output_type": "stream",
     "text": [
      "Generated X from numpy:\n",
      "[[-0.02584119  1.2813169   0.49287322]\n",
      " [ 1.8800957  -1.1769409   0.12025763]]\n"
     ]
    },
    {
     "data": {
      "text/plain": [
       "True"
      ]
     },
     "execution_count": 74,
     "metadata": {},
     "output_type": "execute_result"
    }
   ],
   "source": [
    "X = np.random.randn(2, 3).astype(np.float32)\n",
    "print(\"Generated X from numpy:\\n{}\".format(X))\n",
    "workspace.FeedBlob(\"X\", X)"
   ]
  },
  {
   "cell_type": "markdown",
   "metadata": {},
   "source": [
    "现在，让我们看看在 workspace存了什么 blobs ."
   ]
  },
  {
   "cell_type": "code",
   "execution_count": 75,
   "metadata": {
    "scrolled": true
   },
   "outputs": [
    {
     "name": "stdout",
     "output_type": "stream",
     "text": [
      "Current blobs in the workspace: [u'W', u'X', u'Y', u'b']\n",
      "Workspace has blob 'X'? True\n",
      "Fetched X:\n",
      "[[-0.02584119  1.2813169   0.49287322]\n",
      " [ 1.8800957  -1.1769409   0.12025763]]\n"
     ]
    }
   ],
   "source": [
    "print(\"Current blobs in the workspace: {}\".format(workspace.Blobs()))\n",
    "print(\"Workspace has blob 'X'? {}\".format(workspace.HasBlob(\"X\")))\n",
    "print(\"Fetched X:\\n{}\".format(workspace.FetchBlob(\"X\")))"
   ]
  },
  {
   "cell_type": "markdown",
   "metadata": {},
   "source": [
    "我们可以看到这就是我们刚才存进去的数据:"
   ]
  },
  {
   "cell_type": "code",
   "execution_count": 76,
   "metadata": {
    "collapsed": true
   },
   "outputs": [],
   "source": [
    "np.testing.assert_array_equal(X, workspace.FetchBlob(\"X\"))"
   ]
  },
  {
   "cell_type": "markdown",
   "metadata": {},
   "source": [
    "注意：如果我们想要从workspace中取出一个不存在的blob比如”invincible_pink_unicorn“，那么会报错："
   ]
  },
  {
   "cell_type": "code",
   "execution_count": 77,
   "metadata": {},
   "outputs": [
    {
     "name": "stdout",
     "output_type": "stream",
     "text": [
      "[enforce fail at pybind_state.cc:175] ws->HasBlob(name). Can't find blob: invincible_pink_unicorn\n"
     ]
    }
   ],
   "source": [
    "try:\n",
    "    workspace.FetchBlob(\"invincible_pink_unicorn\")\n",
    "except RuntimeError as err:\n",
    "    print(err)"
   ]
  },
  {
   "cell_type": "markdown",
   "metadata": {},
   "source": [
    "\n",
    "您可能现在不会立即使用的一件事：您可以使用不同的名称在Python中拥有多个工作空间（Workspace），并在它们之间切换。不同工作空间（Workspace）中的Blob彼此分开。您可以使用`CurrentWorkspace`查询当前工作空间（Workspace）。让我们尝试按名称（例如：gutentag）切换工作区，如果不存在则创建一个新工作区。"
   ]
  },
  {
   "cell_type": "code",
   "execution_count": 78,
   "metadata": {},
   "outputs": [
    {
     "name": "stdout",
     "output_type": "stream",
     "text": [
      "Current workspace: default\n",
      "Current blobs in the workspace: [u'W', u'X', u'Y', u'b']\n",
      "Current workspace: gutentag\n",
      "Current blobs in the workspace: []\n"
     ]
    }
   ],
   "source": [
    "print(\"Current workspace: {}\".format(workspace.CurrentWorkspace()))\n",
    "print(\"Current blobs in the workspace: {}\".format(workspace.Blobs()))\n",
    "\n",
    "# Switch the workspace. The second argument \"True\" means creating \n",
    "# the workspace if it is missing.\n",
    "workspace.SwitchWorkspace(\"gutentag\", True)\n",
    "\n",
    "# Let's print the current workspace. Note that there is nothing in the\n",
    "# workspace yet.\n",
    "print(\"Current workspace: {}\".format(workspace.CurrentWorkspace()))\n",
    "print(\"Current blobs in the workspace: {}\".format(workspace.Blobs()))"
   ]
  },
  {
   "cell_type": "markdown",
   "metadata": {},
   "source": [
    "让我们选回默认工作空间（Workspace）："
   ]
  },
  {
   "cell_type": "code",
   "execution_count": 79,
   "metadata": {},
   "outputs": [
    {
     "name": "stdout",
     "output_type": "stream",
     "text": [
      "Current workspace: default\n",
      "Current blobs in the workspace: [u'W', u'X', u'Y', u'b']\n"
     ]
    }
   ],
   "source": [
    "workspace.SwitchWorkspace(\"default\")\n",
    "print(\"Current workspace: {}\".format(workspace.CurrentWorkspace()))\n",
    "print(\"Current blobs in the workspace: {}\".format(workspace.Blobs()))"
   ]
  },
  {
   "cell_type": "markdown",
   "metadata": {},
   "source": [
    "最后，`ResetWorkspace()`命令清除当前工作空间中的所有内容："
   ]
  },
  {
   "cell_type": "code",
   "execution_count": 80,
   "metadata": {},
   "outputs": [
    {
     "name": "stdout",
     "output_type": "stream",
     "text": [
      "Current blobs in the workspace after reset: []\n"
     ]
    }
   ],
   "source": [
    "workspace.ResetWorkspace()\n",
    "print(\"Current blobs in the workspace after reset: {}\".format(workspace.Blobs()))"
   ]
  },
  {
   "cell_type": "markdown",
   "metadata": {},
   "source": [
    "## 2.Operators\n",
    "\n",
    "Caffe2中的Operators是一种类似于函数的形式。 从C++的角度来看，它们都来自通用接口并按类型注册，因此我们可以在运行时调用不同的Operators。Operators的接口在`caffe2 / proto / caffe2.proto`中定义。 基本上，它需要一些输入并产生一些输出。\n",
    "\n",
    "切记，当我们在caffe2 Python 中 使用\"create an operator\"函数时，仅仅是新建了一个protocol buffer 并定义上相应的operators。之后，当我们执行的时候才会送到c++ 后端去执行。\n",
    "\n",
    "让我们看一个例子：\n"
   ]
  },
  {
   "cell_type": "code",
   "execution_count": 81,
   "metadata": {
    "collapsed": true
   },
   "outputs": [],
   "source": [
    "# Create an operator.\n",
    "op = core.CreateOperator(\n",
    "    \"Relu\", # The type of operator that we want to run\n",
    "    [\"X\"], # A list of input blobs by their names\n",
    "    [\"Y\"], # A list of output blobs by their names\n",
    ")\n",
    "# and we are done!"
   ]
  },
  {
   "cell_type": "markdown",
   "metadata": {},
   "source": [
    "正如我们提到的，创建的op实际上是一个protobuf对象。让我们来看看内容："
   ]
  },
  {
   "cell_type": "code",
   "execution_count": 82,
   "metadata": {
    "scrolled": true
   },
   "outputs": [
    {
     "name": "stdout",
     "output_type": "stream",
     "text": [
      "Type of the created op is: <class 'caffe2.proto.caffe2_pb2.OperatorDef'>\n",
      "Content:\n",
      "\n",
      "input: \"X\"\n",
      "output: \"Y\"\n",
      "name: \"\"\n",
      "type: \"Relu\"\n",
      "\n"
     ]
    }
   ],
   "source": [
    "print(\"Type of the created op is: {}\".format(type(op)))\n",
    "print(\"Content:\\n\")\n",
    "print(str(op))"
   ]
  },
  {
   "cell_type": "markdown",
   "metadata": {},
   "source": [
    "\n",
    "好的，让我们运行（run）operator。我们首先将输入X提供给工作空间（Workspace）。然后运行运算符（run operator）的最简单方法是执行workspace.RunOperatorOnce（operator）\n"
   ]
  },
  {
   "cell_type": "code",
   "execution_count": 83,
   "metadata": {},
   "outputs": [
    {
     "data": {
      "text/plain": [
       "True"
      ]
     },
     "execution_count": 83,
     "metadata": {},
     "output_type": "execute_result"
    }
   ],
   "source": [
    "workspace.FeedBlob(\"X\", np.random.randn(2, 3).astype(np.float32))\n",
    "workspace.RunOperatorOnce(op)"
   ]
  },
  {
   "cell_type": "markdown",
   "metadata": {},
   "source": [
    "\n",
    "执行（execution）后，让我们看看（operator）做了什么事情？\n",
    "\n",
    "这次我们定义的（operator）是神经网络中使用的常见激活函数，称为[ReLU]（https://en.wikipedia.org/wiki/Rectifier/neural_networks） \n",
    "，全称是（Rectified Linear Unit activation）整流线性激活单元.ReLU激活有助于添加神经网络分类器必要的非线性特征，定义如下：\n",
    "$$ReLU(x) = max(0, x)$$"
   ]
  },
  {
   "cell_type": "code",
   "execution_count": 84,
   "metadata": {},
   "outputs": [
    {
     "name": "stdout",
     "output_type": "stream",
     "text": [
      "Current blobs in the workspace: [u'X', u'Y']\n",
      "\n",
      "X:\n",
      "[[ 1.1209662   0.8112169  -1.5429683 ]\n",
      " [-1.1201754   0.46254316 -0.10579768]]\n",
      "\n",
      "Y:\n",
      "[[1.1209662  0.8112169  0.        ]\n",
      " [0.         0.46254316 0.        ]]\n",
      "\n",
      "Expected:\n",
      "[[1.1209662  0.8112169  0.        ]\n",
      " [0.         0.46254316 0.        ]]\n",
      "\n"
     ]
    }
   ],
   "source": [
    "print(\"Current blobs in the workspace: {}\\n\".format(workspace.Blobs()))\n",
    "print(\"X:\\n{}\\n\".format(workspace.FetchBlob(\"X\")))\n",
    "print(\"Y:\\n{}\\n\".format(workspace.FetchBlob(\"Y\")))\n",
    "print(\"Expected:\\n{}\\n\".format(np.maximum(workspace.FetchBlob(\"X\"), 0)))"
   ]
  },
  {
   "cell_type": "markdown",
   "metadata": {},
   "source": [
    "从上边的例子可以验证该函数与公式相符。\n",
    "\n",
    " 如果需要，运算符（Operators）也可以使用可选参数。它们被指定为键值对（key-value pairs）。让我们看一个简单的例子，它采用张量（Tensor）并用高斯随机变量填充它。\n"
   ]
  },
  {
   "cell_type": "code",
   "execution_count": 85,
   "metadata": {
    "scrolled": true
   },
   "outputs": [
    {
     "name": "stdout",
     "output_type": "stream",
     "text": [
      "Content of op:\n",
      "\n",
      "output: \"Z\"\n",
      "name: \"\"\n",
      "type: \"GaussianFill\"\n",
      "arg {\n",
      "  name: \"std\"\n",
      "  f: 1.0\n",
      "}\n",
      "arg {\n",
      "  name: \"shape\"\n",
      "  ints: 100\n",
      "  ints: 100\n",
      "}\n",
      "arg {\n",
      "  name: \"mean\"\n",
      "  f: 1.0\n",
      "}\n",
      "\n"
     ]
    }
   ],
   "source": [
    "op = core.CreateOperator(\n",
    "    \"GaussianFill\",# The type of operator that we want to run\n",
    "    [], # GaussianFill does not need any parameters.   # A list of input blobs by their names\n",
    "    [\"Z\"],# A list of output blobs by their names\n",
    "    shape=[100, 100], # shape argument as a list of ints.\n",
    "    mean=1.0,  # mean as a single float\n",
    "    std=1.0, # std as a single float\n",
    ")\n",
    "print(\"Content of op:\\n\")\n",
    "print(str(op))"
   ]
  },
  {
   "cell_type": "markdown",
   "metadata": {},
   "source": [
    "让我们运行一下，看一下结果："
   ]
  },
  {
   "cell_type": "code",
   "execution_count": 86,
   "metadata": {},
   "outputs": [
    {
     "data": {
      "text/plain": [
       "Text(0.5,1,u'Distribution of Z')"
      ]
     },
     "execution_count": 86,
     "metadata": {},
     "output_type": "execute_result"
    },
    {
     "data": {
      "image/png": "[encoded data removed]",
      "text/plain": [
       "<Figure size 432x288 with 1 Axes>"
      ]
     },
     "metadata": {},
     "output_type": "display_data"
    }
   ],
   "source": [
    "workspace.RunOperatorOnce(op)\n",
    "temp = workspace.FetchBlob(\"Z\")\n",
    "pyplot.hist(temp.flatten(), bins=50)\n",
    "pyplot.title(\"Distribution of Z\")"
   ]
  },
  {
   "cell_type": "markdown",
   "metadata": {},
   "source": [
    "如果你看到一个钟形曲线，那么它的工作原理！"
   ]
  },
  {
   "cell_type": "markdown",
   "metadata": {},
   "source": [
    "## 3.Nets\n",
    "\n",
    "网络(Nets)本质上是计算图。我们将名称“Net”保持为向后一致性（并且还向神经网络致敬）。网络由多个运算符(operators)组成，就像编写为一系列命令的程序一样。让我们来看看。\n",
    "\n",
    "\n",
    "当我们谈论网络(nets)时，我们还将讨论BlobReference，它是一个包裹字符串的对象，因此我们可以轻松地对运算符(operators)进行链接。\n",
    "\n",
    "让我们创建一个基本上等同于以下python数学的网络：\n",
    "```\n",
    "X = np.random.randn(2, 3)\n",
    "W = np.random.randn(5, 3)\n",
    "b = np.ones(5)\n",
    "Y = X * W^T + b\n",
    "```\n",
    "我们将逐步展示进展。 Caffe2的`core.Net`是围绕NetDef协议缓冲区的包装类(wrapper class)。"
   ]
  },
  {
   "cell_type": "markdown",
   "metadata": {},
   "source": [
    "创建网络时，除了网络名称之外，其底层协议缓冲区基本上是空的。让我们创建网络（net），然后显示原型内容（proto content）。"
   ]
  },
  {
   "cell_type": "code",
   "execution_count": 87,
   "metadata": {
    "scrolled": false
   },
   "outputs": [
    {
     "name": "stdout",
     "output_type": "stream",
     "text": [
      "Current network proto:\n",
      "\n",
      "name: \"my_first_net_3\"\n",
      "op {\n",
      "  output: \"X\"\n",
      "  name: \"\"\n",
      "  type: \"GaussianFill\"\n",
      "  arg {\n",
      "    name: \"std\"\n",
      "    f: 1.0\n",
      "  }\n",
      "  arg {\n",
      "    name: \"run_once\"\n",
      "    i: 0\n",
      "  }\n",
      "  arg {\n",
      "    name: \"shape\"\n",
      "    ints: 2\n",
      "    ints: 3\n",
      "  }\n",
      "  arg {\n",
      "    name: \"mean\"\n",
      "    f: 0.0\n",
      "  }\n",
      "}\n",
      "op {\n",
      "  output: \"W\"\n",
      "  name: \"\"\n",
      "  type: \"GaussianFill\"\n",
      "  arg {\n",
      "    name: \"std\"\n",
      "    f: 1.0\n",
      "  }\n",
      "  arg {\n",
      "    name: \"run_once\"\n",
      "    i: 0\n",
      "  }\n",
      "  arg {\n",
      "    name: \"shape\"\n",
      "    ints: 5\n",
      "    ints: 3\n",
      "  }\n",
      "  arg {\n",
      "    name: \"mean\"\n",
      "    f: 0.0\n",
      "  }\n",
      "}\n",
      "op {\n",
      "  output: \"b\"\n",
      "  name: \"\"\n",
      "  type: \"ConstantFill\"\n",
      "  arg {\n",
      "    name: \"run_once\"\n",
      "    i: 0\n",
      "  }\n",
      "  arg {\n",
      "    name: \"shape\"\n",
      "    ints: 5\n",
      "  }\n",
      "  arg {\n",
      "    name: \"value\"\n",
      "    f: 1.0\n",
      "  }\n",
      "}\n",
      "op {\n",
      "  input: \"X\"\n",
      "  input: \"W\"\n",
      "  input: \"b\"\n",
      "  output: \"Y\"\n",
      "  name: \"\"\n",
      "  type: \"FC\"\n",
      "}\n",
      "\n"
     ]
    }
   ],
   "source": [
    "my_net = core.Net(\"my_first_net\")\n",
    "print(\"Current network proto:\\n\\n{}\".format(net.Proto()))"
   ]
  },
  {
   "cell_type": "markdown",
   "metadata": {},
   "source": [
    "让我们创建一个名为X的blob，并使用GaussianFill用一些随机数据填充它。"
   ]
  },
  {
   "cell_type": "code",
   "execution_count": 88,
   "metadata": {
    "scrolled": true
   },
   "outputs": [
    {
     "name": "stdout",
     "output_type": "stream",
     "text": [
      "New network proto:\n",
      "\n",
      "name: \"my_first_net_3\"\n",
      "op {\n",
      "  output: \"X\"\n",
      "  name: \"\"\n",
      "  type: \"GaussianFill\"\n",
      "  arg {\n",
      "    name: \"std\"\n",
      "    f: 1.0\n",
      "  }\n",
      "  arg {\n",
      "    name: \"run_once\"\n",
      "    i: 0\n",
      "  }\n",
      "  arg {\n",
      "    name: \"shape\"\n",
      "    ints: 2\n",
      "    ints: 3\n",
      "  }\n",
      "  arg {\n",
      "    name: \"mean\"\n",
      "    f: 0.0\n",
      "  }\n",
      "}\n",
      "op {\n",
      "  output: \"W\"\n",
      "  name: \"\"\n",
      "  type: \"GaussianFill\"\n",
      "  arg {\n",
      "    name: \"std\"\n",
      "    f: 1.0\n",
      "  }\n",
      "  arg {\n",
      "    name: \"run_once\"\n",
      "    i: 0\n",
      "  }\n",
      "  arg {\n",
      "    name: \"shape\"\n",
      "    ints: 5\n",
      "    ints: 3\n",
      "  }\n",
      "  arg {\n",
      "    name: \"mean\"\n",
      "    f: 0.0\n",
      "  }\n",
      "}\n",
      "op {\n",
      "  output: \"b\"\n",
      "  name: \"\"\n",
      "  type: \"ConstantFill\"\n",
      "  arg {\n",
      "    name: \"run_once\"\n",
      "    i: 0\n",
      "  }\n",
      "  arg {\n",
      "    name: \"shape\"\n",
      "    ints: 5\n",
      "  }\n",
      "  arg {\n",
      "    name: \"value\"\n",
      "    f: 1.0\n",
      "  }\n",
      "}\n",
      "op {\n",
      "  input: \"X\"\n",
      "  input: \"W\"\n",
      "  input: \"b\"\n",
      "  output: \"Y\"\n",
      "  name: \"\"\n",
      "  type: \"FC\"\n",
      "}\n",
      "\n"
     ]
    }
   ],
   "source": [
    "X = my_net.GaussianFill([], [\"X\"], mean=0.0, std=1.0, shape=[2, 3], run_once=0)\n",
    "print(\"New network proto:\\n\\n{}\".format(net.Proto()))"
   ]
  },
  {
   "cell_type": "markdown",
   "metadata": {
    "collapsed": true
   },
   "source": [
    "您可能已经观察到与之前的`core.CreateOperator`调用有一些差异。基本上，当使用网络(net)时，您可以直接创建一个运算符(operator)并通过调用`net.SomeOp`将其添加到网络中，其中SomeOp是运算符的注册类型字符串(a registered type string of an operator)。下面两行是等价的：\n",
    "```\n",
    "op = core.CreateOperator(\n",
    "    \"GaussianFill\",\n",
    "    [],\n",
    "    [\"X\"],\n",
    "    shape=[2, 3], \n",
    "    mean=0.0,  \n",
    "    std=1.0,\n",
    "    run_once=0\n",
    ")\n",
    "net.Proto().op.append(op)\n",
    "```\n",
    "等价与：\n",
    "```\n",
    "X = net.GaussianFill([], [\"X\"], mean=0.0, std=1.0, shape=[2, 3], run_once=0)\n",
    "```\n",
    "\n",
    "此外，您可能想知道X是什么。 X是一个`BlobReference`，它记录了两件事：\n",
    "\n",
    "- blob的名称，用`str（X）`访问\n",
    "\n",
    "- 它所在的的网络，由内部变量`_from_net`记录\n",
    "\n",
    "我们来核实一下吧。另外，请记住，我们实际上并没有运行任何东西，所以X只包含一个符号。不要指望现在得到任何数值:)"
   ]
  },
  {
   "cell_type": "code",
   "execution_count": 89,
   "metadata": {
    "scrolled": true
   },
   "outputs": [
    {
     "name": "stdout",
     "output_type": "stream",
     "text": [
      "Type of X is: <class 'caffe2.python.core.BlobReference'>\n",
      "The blob name is: X\n"
     ]
    }
   ],
   "source": [
    "print(\"Type of X is: {}\".format(type(X)))\n",
    "print(\"The blob name is: {}\".format(str(X)))"
   ]
  },
  {
   "cell_type": "markdown",
   "metadata": {},
   "source": [
    "让我们继续创建 W and b."
   ]
  },
  {
   "cell_type": "code",
   "execution_count": 90,
   "metadata": {
    "collapsed": true
   },
   "outputs": [],
   "source": [
    "W = my_net.GaussianFill([], [\"W\"], mean=0.0, std=1.0, shape=[5, 3], run_once=0)\n",
    "b = my_net.ConstantFill([], [\"b\"], shape=[5,], value=1.0, run_once=0)"
   ]
  },
  {
   "cell_type": "markdown",
   "metadata": {},
   "source": [
    "现在，一个简单的代码糖：由于BlobReference对象知道它是从哪个网络生成的，除了从net创建运算符（operators）之外，您还可以从BlobReferences创建运算符（operators）。让我们以这种方式创建FC运算符（operators）。"
   ]
  },
  {
   "cell_type": "code",
   "execution_count": 91,
   "metadata": {
    "collapsed": true
   },
   "outputs": [],
   "source": [
    "Y = X.FC([W, b], [\"Y\"])"
   ]
  },
  {
   "cell_type": "markdown",
   "metadata": {},
   "source": [
    "在引擎盖(hood)下，`X.FC（...）`通过插入`X`作为相应运算符的第一个输入来简单地委托给`net.FC`，所以我们上面所做的相当于:\n",
    "```\n",
    "Y = net.FC([X, W, b], [\"Y\"])\n",
    "```\n",
    "\n",
    "让我们看一下当前（net）："
   ]
  },
  {
   "cell_type": "code",
   "execution_count": 92,
   "metadata": {},
   "outputs": [
    {
     "name": "stdout",
     "output_type": "stream",
     "text": [
      "Current network proto:\n",
      "\n",
      "name: \"my_first_net_5\"\n",
      "op {\n",
      "  output: \"X\"\n",
      "  name: \"\"\n",
      "  type: \"GaussianFill\"\n",
      "  arg {\n",
      "    name: \"std\"\n",
      "    f: 1.0\n",
      "  }\n",
      "  arg {\n",
      "    name: \"run_once\"\n",
      "    i: 0\n",
      "  }\n",
      "  arg {\n",
      "    name: \"shape\"\n",
      "    ints: 2\n",
      "    ints: 3\n",
      "  }\n",
      "  arg {\n",
      "    name: \"mean\"\n",
      "    f: 0.0\n",
      "  }\n",
      "}\n",
      "op {\n",
      "  output: \"W\"\n",
      "  name: \"\"\n",
      "  type: \"GaussianFill\"\n",
      "  arg {\n",
      "    name: \"std\"\n",
      "    f: 1.0\n",
      "  }\n",
      "  arg {\n",
      "    name: \"run_once\"\n",
      "    i: 0\n",
      "  }\n",
      "  arg {\n",
      "    name: \"shape\"\n",
      "    ints: 5\n",
      "    ints: 3\n",
      "  }\n",
      "  arg {\n",
      "    name: \"mean\"\n",
      "    f: 0.0\n",
      "  }\n",
      "}\n",
      "op {\n",
      "  output: \"b\"\n",
      "  name: \"\"\n",
      "  type: \"ConstantFill\"\n",
      "  arg {\n",
      "    name: \"run_once\"\n",
      "    i: 0\n",
      "  }\n",
      "  arg {\n",
      "    name: \"shape\"\n",
      "    ints: 5\n",
      "  }\n",
      "  arg {\n",
      "    name: \"value\"\n",
      "    f: 1.0\n",
      "  }\n",
      "}\n",
      "op {\n",
      "  input: \"X\"\n",
      "  input: \"W\"\n",
      "  input: \"b\"\n",
      "  output: \"Y\"\n",
      "  name: \"\"\n",
      "  type: \"FC\"\n",
      "}\n",
      "\n"
     ]
    }
   ],
   "source": [
    "print(\"Current network proto:\\n\\n{}\".format(my_net.Proto()))"
   ]
  },
  {
   "cell_type": "markdown",
   "metadata": {},
   "source": [
    "太冗长了吧？让我们尝试将其可视化为图形。为此，Caffe2附带了一个非常小的图形可视化工具"
   ]
  },
  {
   "cell_type": "code",
   "execution_count": 93,
   "metadata": {},
   "outputs": [
    {
     "data": {
      "image/png": "[encoded data removed]",
      "text/plain": [
       "<IPython.core.display.Image object>"
      ]
     },
     "execution_count": 93,
     "metadata": {
      "image/png": {
       "width": 800
      }
     },
     "output_type": "execute_result"
    }
   ],
   "source": [
    "from caffe2.python import net_drawer\n",
    "from IPython import display\n",
    "graph = net_drawer.GetPydotGraph(my_net, rankdir=\"LR\")\n",
    "display.Image(graph.create_png(), width=800)"
   ]
  },
  {
   "cell_type": "markdown",
   "metadata": {},
   "source": [
    "所以我们已经定义了一个网络，但还没有执行任何内容。请记住，上面的网络本质上是一个保存网络定义的protobuf。当我们真正运行网络时，幕后发生的事情是\n",
    "- 从protobuf中实例化一个 C++ net object\n",
    "- 调用实例化的net的Run（）函数\n",
    "\n",
    "在我们做任何事情之前，我们应该使用`ResetWorkspace（）`清除任何早期的工作区变量。\n",
    "\n",
    "然后有两种方法可以从Python运行网络。我们将在下面的示例中首先执行第一个选项。\n",
    "\n",
    "1.调用`workspace.RunNetOnce（）`，它实例化，运行并立即拆分网络    \n",
    "2.调用`workspace.CreateNet（）`来创建工作空间(workspace)所拥有的C++net对象，然后调用workspace.RunNet()，将网络的名称传递给它。"
   ]
  },
  {
   "cell_type": "code",
   "execution_count": 94,
   "metadata": {
    "scrolled": false
   },
   "outputs": [
    {
     "name": "stdout",
     "output_type": "stream",
     "text": [
      "Current blobs in the workspace: []\n",
      "Blobs in the workspace after execution: [u'W', u'X', u'Y', u'b']\n",
      "W:\n",
      "[[-0.5135348  -1.6074936  -0.85531217]\n",
      " [ 0.55833554  0.55954295 -1.3781272 ]\n",
      " [-0.991518   -0.49916956  1.3225383 ]\n",
      " [ 0.84439176  0.07618229 -0.62683123]\n",
      " [-0.602707   -0.65742415  0.66565436]]\n",
      "X:\n",
      "[[-0.62176234  0.63317245  0.8652356 ]\n",
      " [-1.5274166  -0.09956307 -0.00647647]]\n",
      "Y:\n",
      "[[-0.43857074 -0.1852696   2.4447355  -0.01913118  1.5344255 ]\n",
      " [ 1.949968    0.10040456  2.5555944  -0.2932632   1.9817288 ]]\n",
      "b:\n",
      "[1. 1. 1. 1. 1.]\n"
     ]
    }
   ],
   "source": [
    "workspace.ResetWorkspace()\n",
    "print(\"Current blobs in the workspace: {}\".format(workspace.Blobs()))\n",
    "workspace.RunNetOnce(my_net)\n",
    "print(\"Blobs in the workspace after execution: {}\".format(workspace.Blobs()))\n",
    "# Let's dump the contents of the blobs\n",
    "for name in workspace.Blobs():\n",
    "    print(\"{}:\\n{}\".format(name, workspace.FetchBlob(name)))"
   ]
  },
  {
   "cell_type": "markdown",
   "metadata": {},
   "source": [
    "现在让我们尝试第二种方法来创建网络（net）并运行它。首先，使用`ResetWorkspace（）`清除变量。然后使用我们之前使用`CreateNet（net_object）`创建的工作空间（workspace）的`net`对象创建网络(my_net)。最后，使用`RunNet（net_name）`运行网络。"
   ]
  },
  {
   "cell_type": "code",
   "execution_count": 95,
   "metadata": {
    "scrolled": true
   },
   "outputs": [
    {
     "name": "stdout",
     "output_type": "stream",
     "text": [
      "Current blobs in the workspace: []\n",
      "Blobs in the workspace after execution: [u'W', u'X', u'Y', u'b']\n",
      "W:\n",
      "[[ 1.9866093e-03  6.1452633e-01  2.6723117e-01]\n",
      " [-3.7205499e-01 -1.6160715e+00 -1.4222487e+00]\n",
      " [ 1.1416672e+00  8.5878557e-01 -3.5418496e-01]\n",
      " [ 3.9810416e-01  1.7708173e-01  8.4679842e-01]\n",
      " [ 2.3121457e+00  3.7234628e-01 -1.5822794e-01]]\n",
      "X:\n",
      "[[-0.97019637  2.3577101   0.49893522]\n",
      " [ 0.78800434 -0.21854126  0.18668541]]\n",
      "Y:\n",
      "[[ 2.5802786  -3.1588717   1.7404106   1.4537657  -0.44429624]\n",
      " [ 0.91715425  0.79448426  1.6458375   1.4330931   2.711069  ]]\n",
      "b:\n",
      "[1. 1. 1. 1. 1.]\n"
     ]
    }
   ],
   "source": [
    "workspace.ResetWorkspace()\n",
    "print(\"Current blobs in the workspace: {}\".format(workspace.Blobs()))\n",
    "workspace.CreateNet(my_net)\n",
    "workspace.RunNet(my_net.Proto().name)\n",
    "print(\"Blobs in the workspace after execution: {}\".format(workspace.Blobs()))\n",
    "for name in workspace.Blobs():\n",
    "    print(\"{}:\\n{}\".format(name, workspace.FetchBlob(name)))"
   ]
  },
  {
   "cell_type": "markdown",
   "metadata": {},
   "source": [
    "`RunNetOnce`和`RunNet`之间存在一些差异，但主要区别在于计算开销。由于`RunNetOnce`涉及序列化protobuf以在Python和C之间传递并实例化网络，因此运行可能需要更长时间。让我们进行测试，看看时间开销是多少。"
   ]
  },
  {
   "cell_type": "code",
   "execution_count": 96,
   "metadata": {},
   "outputs": [
    {
     "name": "stdout",
     "output_type": "stream",
     "text": [
      "Run time per RunNetOnce: 0.000457355976105\n",
      "Run time per RunNet: 1.52060985565e-05\n"
     ]
    }
   ],
   "source": [
    "# It seems that %timeit magic does not work well with\n",
    "# C++ extensions so we'll basically do for loops\n",
    "start = time.time()\n",
    "for i in range(1000):\n",
    "    workspace.RunNetOnce(my_net)\n",
    "end = time.time()\n",
    "print('Run time per RunNetOnce: {}'.format((end - start) / 1000))\n",
    "\n",
    "start = time.time()\n",
    "for i in range(1000):\n",
    "    workspace.RunNet(my_net.Proto().name)\n",
    "end = time.time()\n",
    "print('Run time per RunNet: {}'.format((end - start) / 1000))"
   ]
  },
  {
   "cell_type": "markdown",
   "metadata": {
    "collapsed": true
   },
   "source": [
    "恭喜，您现在已经了解了Caffe2 Python API的许多关键组件！准备好了解更多Caffe2？查看其余的教程，了解各种有趣的用例！"
   ]
  },
  {
   "cell_type": "code",
   "execution_count": null,
   "metadata": {
    "collapsed": true
   },
   "outputs": [],
   "source": []
  }
 ],
 "metadata": {
  "kernelspec": {
   "display_name": "Python 2",
   "language": "python",
   "name": "python2"
  },
  "language_info": {
   "codemirror_mode": {
    "name": "ipython",
    "version": 2
   },
   "file_extension": ".py",
   "mimetype": "text/x-python",
   "name": "python",
   "nbconvert_exporter": "python",
   "pygments_lexer": "ipython2",
   "version": "2.7.14"
  }
 },
 "nbformat": 4,
 "nbformat_minor": 1
}
