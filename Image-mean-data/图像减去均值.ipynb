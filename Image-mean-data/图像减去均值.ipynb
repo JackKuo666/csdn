{
 "cells": [
  {
   "cell_type": "markdown",
   "metadata": {},
   "source": [
    "# 1.图片制作cifar-10格式的数据"
   ]
  },
  {
   "cell_type": "code",
   "execution_count": 45,
   "metadata": {},
   "outputs": [
    {
     "name": "stdout",
     "output_type": "stream",
     "text": [
      "6\n",
      "(6, 3, 32, 32)\n",
      "[[ 62  61  60 ...,  64  82  62]\n",
      " [ 62  63  61 ...,  77 114  64]\n",
      " [ 67  78 115 ..., 100 119  63]\n",
      " ..., \n",
      " [161 159 159 ..., 152 157 156]\n",
      " [163 161 162 ..., 162 161 161]\n",
      " [169 167 167 ..., 167 167 167]]\n"
     ]
    }
   ],
   "source": [
    "%matplotlib inline\n",
    "import matplotlib.pyplot as plt \n",
    "from PIL import Image\n",
    "import numpy as np\n",
    "from numpy import *\n",
    "import os\n",
    "\n",
    "img_dir='F:\\guo\\shouxie_cnn\\cifar-10-batches-py\\img'\n",
    "img_list=os.listdir(img_dir)\n",
    "\n",
    "sum_rgb = []\n",
    "sum_img = []\n",
    "count=0\n",
    "\n",
    "for img_name in img_list:\n",
    "    img_path=os.path.join(img_dir,img_name)\n",
    "    img = Image.open(img_path, 'r')\n",
    "    r,g,b = img.split()  \n",
    "    #print (np.array(r).shape)\n",
    "    sum_rgb.append(np.array(r))\n",
    "    sum_rgb.append(np.array(g))\n",
    "    sum_rgb.append(np.array(b))  \n",
    "    #print (np.array(sum_rgb).shape)\n",
    "    sum_img.append(sum_rgb)\n",
    "    #print (np.array(sum_img).shape)\n",
    "    sum_rgb = []\n",
    "    count = count +1\n",
    "\n",
    "print (count)\n",
    "print (np.array(sum_img).shape)\n",
    "print (np.array(sum_img)[0][0])\n"
   ]
  },
  {
   "cell_type": "markdown",
   "metadata": {},
   "source": [
    "# 2.图像去均值"
   ]
  },
  {
   "cell_type": "code",
   "execution_count": 47,
   "metadata": {},
   "outputs": [
    {
     "name": "stdout",
     "output_type": "stream",
     "text": [
      "减去均值之前，X_train的第一幅图像的RGB通道的第一个通道的图像数值32*32：\n",
      "[[ 62  61  60 ...,  64  82  62]\n",
      " [ 62  63  61 ...,  77 114  64]\n",
      " [ 67  78 115 ..., 100 119  63]\n",
      " ..., \n",
      " [161 159 159 ..., 152 157 156]\n",
      " [163 161 162 ..., 162 161 161]\n",
      " [169 167 167 ..., 167 167 167]]\n",
      "-----------------------------------------------\n",
      "mean_image的形状以及数值\n",
      "(3, 32, 32)\n",
      "[[ 121.33333333  114.66666667  113.83333333 ...,  134.          135.5\n",
      "   130.66666667]\n",
      " [ 112.33333333  111.5         110.33333333 ...,  134.16666667\n",
      "   136.16666667  125.16666667]\n",
      " [ 113.33333333  112.66666667  119.83333333 ...,  134.16666667  137.5\n",
      "   123.66666667]\n",
      " ..., \n",
      " [ 135.66666667  131.66666667  129.66666667 ...,   99.33333333   84.           86.        ]\n",
      " [ 129.16666667  125.5         128.5        ...,  112.16666667\n",
      "    99.66666667  101.        ]\n",
      " [ 129.83333333  125.66666667  127.66666667 ...,  122.16666667\n",
      "   112.33333333  109.66666667]]\n",
      "-----------------------------------------------\n",
      "减去均值之后，X_train的第一幅图像的RGB通道的第一个通道的图像数值32*32：\n",
      "[[-59.33333333 -53.66666667 -53.83333333 ..., -70.         -53.5\n",
      "  -68.66666667]\n",
      " [-50.33333333 -48.5        -49.33333333 ..., -57.16666667 -22.16666667\n",
      "  -61.16666667]\n",
      " [-46.33333333 -34.66666667  -4.83333333 ..., -34.16666667 -18.5\n",
      "  -60.66666667]\n",
      " ..., \n",
      " [ 25.33333333  27.33333333  29.33333333 ...,  52.66666667  73.          70.        ]\n",
      " [ 33.83333333  35.5         33.5        ...,  49.83333333  61.33333333\n",
      "   60.        ]\n",
      " [ 39.16666667  41.33333333  39.33333333 ...,  44.83333333  54.66666667\n",
      "   57.33333333]]\n"
     ]
    }
   ],
   "source": [
    "# Normalize the data: subtract the mean image\n",
    "X_train = sum_img\n",
    "print (\"减去均值之前，X_train的第一幅图像的RGB通道的第一个通道的图像数值32*32：\")\n",
    "print (X_train[0][0])\n",
    "mean_image = np.mean(X_train, axis=0)    \n",
    "#shape=(3,32, 32) 这里axis=0表示按照列算均值,在这里是将所有图像的R图上的每个像素点的数值取平均,G,B通道同理，这里是image mean。\n",
    "X_train_m = X_train - mean_image\n",
    "\n",
    "\n",
    "\n",
    "print (\"-----------------------------------------------\")\n",
    "print (\"mean_image的形状以及数值\")\n",
    "print (mean_image.shape)\n",
    "print (mean_image[0])\n",
    "print (\"-----------------------------------------------\")\n",
    "print (\"减去均值之后，X_train的第一幅图像的RGB通道的第一个通道的图像数值32*32：\")\n",
    "print (X_train_m[0][0])\n"
   ]
  },
  {
   "cell_type": "markdown",
   "metadata": {},
   "source": [
    "# 其它：图像均值（pixel mean）"
   ]
  },
  {
   "cell_type": "code",
   "execution_count": 48,
   "metadata": {},
   "outputs": [
    {
     "name": "stdout",
     "output_type": "stream",
     "text": [
      "[122.30835127019559, 115.90339671024662, 99.094251567814624]\n"
     ]
    }
   ],
   "source": [
    "import os\n",
    "import cv2\n",
    "from numpy import *\n",
    "\n",
    "img_dir='F:\\guo\\shouxie_cnn\\cifar-10-batches-py\\img'\n",
    "img_list=os.listdir(img_dir)\n",
    "img_size=224\n",
    "sum_r=0\n",
    "sum_g=0\n",
    "sum_b=0\n",
    "count=0\n",
    "\n",
    "for img_name in img_list:\n",
    "    img_path=os.path.join(img_dir,img_name)\n",
    "    img=cv2.imread(img_path)\n",
    "    img=cv2.cvtColor(img,cv2.COLOR_BGR2RGB)\n",
    "    img=cv2.resize(img,(img_size,img_size))\n",
    "    sum_r=sum_r+img[:,:,0].mean()\n",
    "    sum_g=sum_g+img[:,:,1].mean()\n",
    "    sum_b=sum_b+img[:,:,2].mean()\n",
    "    count=count+1\n",
    "\n",
    "sum_r=sum_r/count\n",
    "sum_g=sum_g/count\n",
    "sum_b=sum_b/count\n",
    "img_mean=[sum_r,sum_g,sum_b]\n",
    "print (img_mean)"
   ]
  },
  {
   "cell_type": "code",
   "execution_count": null,
   "metadata": {},
   "outputs": [],
   "source": []
  }
 ],
 "metadata": {
  "kernelspec": {
   "display_name": "Python 3",
   "language": "python",
   "name": "python3"
  },
  "language_info": {
   "codemirror_mode": {
    "name": "ipython",
    "version": 3
   },
   "file_extension": ".py",
   "mimetype": "text/x-python",
   "name": "python",
   "nbconvert_exporter": "python",
   "pygments_lexer": "ipython3",
   "version": "3.6.6"
  }
 },
 "nbformat": 4,
 "nbformat_minor": 2
}
